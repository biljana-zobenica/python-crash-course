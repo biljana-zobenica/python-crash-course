{
 "cells": [
  {
   "cell_type": "markdown",
   "metadata": {},
   "source": [
    "<div class=\"alert alert-block alert-info\" style=\"background-color: #aebf00; border: 0px; -moz-border-radius: 10px; -webkit-border-radius: 10px;\" width=\"100px\">\n",
    "<br/><br/>\n",
    "<h1 style=\"font-size: 25px; color: white; align: center;\"><center>\n",
    "<img src=\"https://encrypted-tbn0.gstatic.com/images?q=tbn:ANd9GcQDnfKWqBBMjseT3M5JckruICb6XdgwrFmP_A&usqp=CAU\" width=\"200px\" /><br/><br/>\n",
    "Python Crash Course\n",
    "<br><br>Variables and Simple Data Types\n",
    "</center></h1>\n",
    "</div>"
   ]
  },
  {
   "cell_type": "code",
   "execution_count": null,
   "metadata": {},
   "outputs": [],
   "source": []
  }
 ],
 "metadata": {
  "kernelspec": {
   "display_name": "Python 3",
   "language": "python",
   "name": "python3"
  },
  "language_info": {
   "codemirror_mode": {
    "name": "ipython",
    "version": 3
   },
   "file_extension": ".py",
   "mimetype": "text/x-python",
   "name": "python",
   "nbconvert_exporter": "python",
   "pygments_lexer": "ipython3",
   "version": "3.8.5"
  }
 },
 "nbformat": 4,
 "nbformat_minor": 4
}

{
 "cells": [
  {
   "cell_type": "markdown",
   "metadata": {},
   "source": [
    "<div class=\"alert alert-block alert-info\" style=\"background-color: #aebf00; border: 0px; -moz-border-radius: 10px; -webkit-border-radius: 10px;\" width=\"100px\">\n",
    "<br/><br/>\n",
    "<h1 style=\"font-size: 25px; color: white; align: center;\"><center>\n",
    "<img src=\"https://encrypted-tbn0.gstatic.com/images?q=tbn:ANd9GcQDnfKWqBBMjseT3M5JckruICb6XdgwrFmP_A&usqp=CAU\" width=\"200px\" /><br/><br/>\n",
    "Python Crash Course\n",
    "<br><br>Dictionaries\n",
    "</center></h1>\n",
    "</div>"
   ]
  },
  {
   "cell_type": "markdown",
   "metadata": {},
   "source": [
    "### A Simple Dictionary"
   ]
  },
  {
   "cell_type": "markdown",
   "metadata": {},
   "source": [
    "A <b>dictionary</b> in Python is a collection of <b>key-value pairs</b>."
   ]
  },
  {
   "cell_type": "code",
   "execution_count": 1,
   "metadata": {},
   "outputs": [
    {
     "name": "stdout",
     "output_type": "stream",
     "text": [
      "green\n",
      "5\n"
     ]
    }
   ],
   "source": [
    "# create a simple dictionary\n",
    "\n",
    "alien_0 = {'color':'green', 'points':'5'}\n",
    "\n",
    "print(alien_0['color'])\n",
    "print(alien_0['points'])"
   ]
  },
  {
   "cell_type": "markdown",
   "metadata": {},
   "source": [
    "### Working with Dictionaries"
   ]
  },
  {
   "cell_type": "markdown",
   "metadata": {},
   "source": [
    "Each key is connected to a value and we can use a key to access the value associated with that key. A key's value can be a number, a string, alist or even another dictionary. In Python, <b>a dictionary is wrapped in braces { }</b>, with a series of key-value pairs inside the braces. A <b>key-value pair</b> is a set of values associated with each other."
   ]
  },
  {
   "cell_type": "code",
   "execution_count": 2,
   "metadata": {},
   "outputs": [
    {
     "name": "stdout",
     "output_type": "stream",
     "text": [
      "You have just earned 5 points!\n"
     ]
    }
   ],
   "source": [
    "# access values in a dictionary\n",
    "\n",
    "alien_0 = {'color':'green', 'points':'5'}\n",
    "\n",
    "new_points = alien_0['points']\n",
    "print(f'You have just earned {new_points} points!')"
   ]
  },
  {
   "cell_type": "markdown",
   "metadata": {},
   "source": [
    "So, <b>to get the value associated with a key</b>, we give the name of the dictionary and then place the key inside a set of square brackets or <b>[ ]</b>."
   ]
  },
  {
   "cell_type": "code",
   "execution_count": 4,
   "metadata": {},
   "outputs": [
    {
     "name": "stdout",
     "output_type": "stream",
     "text": [
      "{'color': 'green', 'points': '5'}\n",
      "{'color': 'green', 'points': '5', 'x_position': 0, 'y_position': 25}\n"
     ]
    }
   ],
   "source": [
    "# add new key-value pairs\n",
    "\n",
    "alien_0 = {'color':'green', 'points':'5'}\n",
    "print(alien_0)\n",
    "\n",
    "alien_0['x_position'] = 0\n",
    "alien_0['y_position'] = 25\n",
    "print(alien_0)"
   ]
  },
  {
   "cell_type": "markdown",
   "metadata": {},
   "source": [
    "### Start with an Empty Dictionary"
   ]
  },
  {
   "cell_type": "code",
   "execution_count": 5,
   "metadata": {},
   "outputs": [
    {
     "name": "stdout",
     "output_type": "stream",
     "text": [
      "{'color': 'green', 'points': 5}\n"
     ]
    }
   ],
   "source": [
    "# start with en empty dictionary\n",
    "\n",
    "alien_0 = {}\n",
    "\n",
    "alien_0['color'] = 'green'\n",
    "alien_0['points'] = 5\n",
    "\n",
    "print(alien_0)"
   ]
  },
  {
   "cell_type": "code",
   "execution_count": 9,
   "metadata": {},
   "outputs": [
    {
     "name": "stdout",
     "output_type": "stream",
     "text": [
      "The alien is green.\n",
      "The alien is now yellow.\n"
     ]
    }
   ],
   "source": [
    "# modify values in a dictionary\n",
    "\n",
    "alien_0 = {'color':'green'}\n",
    "print(f\"The alien is {alien_0['color']}.\")\n",
    "\n",
    "alien_0['color'] = 'yellow'\n",
    "print(f\"The alien is now {alien_0['color']}.\")"
   ]
  },
  {
   "cell_type": "code",
   "execution_count": 12,
   "metadata": {},
   "outputs": [
    {
     "name": "stdout",
     "output_type": "stream",
     "text": [
      "Original position: 0.\n",
      "New position: 2.\n"
     ]
    }
   ],
   "source": [
    "alien_0 = {'x_position' : 0, 'y_position' : 25, 'speed' : 'medium'}\n",
    "print(f\"Original position: {alien_0['x_position']}.\")\n",
    "\n",
    "# move the alien to the right\n",
    "# determine how far to move the alien based on its current speed.\n",
    "\n",
    "if alien_0['speed'] == 'slow':\n",
    "    x_increment = 1\n",
    "elif alien_0['speed'] == 'medium':\n",
    "    x_increment = 2\n",
    "else:\n",
    "    # this must be a fast alien.\n",
    "    x_increment = 3\n",
    "\n",
    "# the new position is the old position plus the increment.\n",
    "\n",
    "alien_0['x_position'] = alien_0['x_position'] + x_increment\n",
    "print(f\"New position: {alien_0['x_position']}.\")"
   ]
  },
  {
   "cell_type": "markdown",
   "metadata": {},
   "source": [
    "We can use <b>del statement</b> to completely remove a key-value pair. All <b>del</b> needs is the name of the dictionary and the key that you want to remove."
   ]
  },
  {
   "cell_type": "code",
   "execution_count": 13,
   "metadata": {},
   "outputs": [
    {
     "name": "stdout",
     "output_type": "stream",
     "text": [
      "{'color': 'green', 'points': 5}\n",
      "{'color': 'green'}\n"
     ]
    }
   ],
   "source": [
    "# remove the key 'points' from the alien_0 dictionary\n",
    "\n",
    "alien_0 = {'color' : 'green', 'points' : 5}\n",
    "print(alien_0)\n",
    "\n",
    "del alien_0['points']\n",
    "print(alien_0)"
   ]
  },
  {
   "cell_type": "markdown",
   "metadata": {},
   "source": [
    "*NOTE:*<br>Be aware that the deleted key-value pair is removed <b>permanently</b>."
   ]
  },
  {
   "cell_type": "code",
   "execution_count": 15,
   "metadata": {},
   "outputs": [
    {
     "name": "stdout",
     "output_type": "stream",
     "text": [
      "Sarah's favorite language is C.\n"
     ]
    }
   ],
   "source": [
    "# a dictionary of similar objects\n",
    "\n",
    "favorite_languages = {\n",
    "    'jen' : 'python',\n",
    "    'sarah' : 'c', \n",
    "    'edward' : 'ruby', \n",
    "    'phil' : 'python',\n",
    "    }\n",
    "\n",
    "# look up for Sarah's favorite language\n",
    "\n",
    "language = favorite_languages['sarah'].title()\n",
    "print(f\"Sarah's favorite language is {language}.\")"
   ]
  },
  {
   "cell_type": "markdown",
   "metadata": {},
   "source": [
    "Using keys in square brackets to retrieve the value from a dictionary might cause one potential problem: if the key we ask for doesn't exist, we will get an error. So, we can use the <b>.get method</b> to set a default value that will be returned if the requested key doesn't exist."
   ]
  },
  {
   "cell_type": "code",
   "execution_count": 16,
   "metadata": {},
   "outputs": [
    {
     "ename": "KeyError",
     "evalue": "'points'",
     "output_type": "error",
     "traceback": [
      "\u001b[1;31m---------------------------------------------------------------------------\u001b[0m",
      "\u001b[1;31mKeyError\u001b[0m                                  Traceback (most recent call last)",
      "\u001b[1;32m<ipython-input-16-f827874a2813>\u001b[0m in \u001b[0;36m<module>\u001b[1;34m\u001b[0m\n\u001b[0;32m      1\u001b[0m \u001b[0malien_0\u001b[0m \u001b[1;33m=\u001b[0m \u001b[1;33m{\u001b[0m\u001b[1;34m'color'\u001b[0m \u001b[1;33m:\u001b[0m \u001b[1;34m'green'\u001b[0m\u001b[1;33m,\u001b[0m \u001b[1;34m'speed'\u001b[0m \u001b[1;33m:\u001b[0m \u001b[1;34m'medium'\u001b[0m\u001b[1;33m}\u001b[0m\u001b[1;33m\u001b[0m\u001b[1;33m\u001b[0m\u001b[0m\n\u001b[1;32m----> 2\u001b[1;33m \u001b[0mprint\u001b[0m\u001b[1;33m(\u001b[0m\u001b[0malien_0\u001b[0m\u001b[1;33m[\u001b[0m\u001b[1;34m'points'\u001b[0m\u001b[1;33m]\u001b[0m\u001b[1;33m)\u001b[0m\u001b[1;33m\u001b[0m\u001b[1;33m\u001b[0m\u001b[0m\n\u001b[0m",
      "\u001b[1;31mKeyError\u001b[0m: 'points'"
     ]
    }
   ],
   "source": [
    "# get an error when requesting a key that doesn't exist in a dictionary\n",
    "\n",
    "alien_0 = {'color' : 'green', 'speed' : 'slow\n",
    "print(alien_0['points'])"
   ]
  },
  {
   "cell_type": "code",
   "execution_count": 17,
   "metadata": {},
   "outputs": [
    {
     "name": "stdout",
     "output_type": "stream",
     "text": [
      "No point value assigned.\n"
     ]
    }
   ],
   "source": [
    "# use .get() to access values\n",
    "\n",
    "alien_0 = {'color' : 'green', 'speed' : 'slow'}\n",
    "\n",
    "point_value = alien_0.get('points', 'No point value assigned.')\n",
    "print(point_value)"
   ]
  },
  {
   "cell_type": "markdown",
   "metadata": {},
   "source": [
    "In the <b>get method</b> we have two arguments, the first one is the requested key and the second one is a return value if the key doewn.t exist. If we leave out the second argument in the call to get( and the key doesn't exist, Python will return the value None. The special value None means \"no value exists\"."
   ]
  },
  {
   "cell_type": "markdown",
   "metadata": {},
   "source": [
    "### Looping through a Dictionary"
   ]
  },
  {
   "cell_type": "markdown",
   "metadata": {},
   "source": [
    "For looping through a dictionary, we can use the methods:<br>\n",
    "* <b>.items ( )</b> -> for looping through all the key-value pairs\n",
    "* <b>.keys ( )</b> -> for looping through all the keys\n",
    "* <b>.values ( )</b> -> for looping through all the values"
   ]
  },
  {
   "cell_type": "code",
   "execution_count": 19,
   "metadata": {},
   "outputs": [
    {
     "name": "stdout",
     "output_type": "stream",
     "text": [
      "\n",
      "Key: username\n",
      "Value: efermi\n",
      "\n",
      "Key: first\n",
      "Value: enrico\n",
      "\n",
      "Key: last\n",
      "Value: fermi\n"
     ]
    }
   ],
   "source": [
    "### loop through all key-value pairs\n",
    "\n",
    "user_0 = {\n",
    "    'username':'efermi',\n",
    "    'first':'enrico',\n",
    "    'last':'fermi',\n",
    "    }\n",
    "\n",
    "for key, value in user_0.items():\n",
    "    print(f\"\\nKey: {key}\")\n",
    "    print(f\"Value: {value}\")"
   ]
  },
  {
   "cell_type": "markdown",
   "metadata": {},
   "source": [
    "To write a <b>for loop </b>for a dictionary, we create names for the two variables that will hold the key and value in each key-value pair. Afterwards, the name of the dictionary is followed by the <b>items() method</b>, which returns a list of key-value pairs."
   ]
  },
  {
   "cell_type": "code",
   "execution_count": 20,
   "metadata": {},
   "outputs": [
    {
     "name": "stdout",
     "output_type": "stream",
     "text": [
      "Python is Jen's favorite language.\n",
      "C is Sarah's favorite language.\n",
      "Ruby is Edward's favorite language.\n",
      "Python is Phil's favorite language.\n"
     ]
    }
   ],
   "source": [
    "# create a for loop for favorite_languages dictionary\n",
    "\n",
    "favorite_languages = {\n",
    "    'jen' : 'python',\n",
    "    'sarah' : 'c', \n",
    "    'edward' : 'ruby', \n",
    "    'phil' : 'python',\n",
    "    }\n",
    "\n",
    "for name, language in favorite_languages.items():\n",
    "    print(f\"{language.title()} is {name.title()}'s favorite language.\")"
   ]
  },
  {
   "cell_type": "code",
   "execution_count": 22,
   "metadata": {},
   "outputs": [
    {
     "name": "stdout",
     "output_type": "stream",
     "text": [
      "Jen\n",
      "Sarah\n",
      "Edward\n",
      "Phil\n"
     ]
    }
   ],
   "source": [
    "### loop through all the keys in a dictionary\n",
    "\n",
    "favorite_languages = {\n",
    "    'jen' : 'python',\n",
    "    'sarah' : 'c', \n",
    "    'edward' : 'ruby', \n",
    "    'phil' : 'python',\n",
    "    }\n",
    "\n",
    "for name in favorite_languages.keys():\n",
    "    print(name.title())"
   ]
  },
  {
   "cell_type": "markdown",
   "metadata": {},
   "source": [
    "<b>Looping through the keys</b> is actually the <b>default behavior</b> when looping through a dictionary, so this code would have exactly the same output if we wrote:"
   ]
  },
  {
   "cell_type": "code",
   "execution_count": 23,
   "metadata": {},
   "outputs": [
    {
     "name": "stdout",
     "output_type": "stream",
     "text": [
      "Jen\n",
      "Sarah\n",
      "Edward\n",
      "Phil\n"
     ]
    }
   ],
   "source": [
    "favorite_languages = {\n",
    "    'jen' : 'python',\n",
    "    'sarah' : 'c', \n",
    "    'edward' : 'ruby', \n",
    "    'phil' : 'python',\n",
    "    }\n",
    "\n",
    "for name in favorite_languages: # without the .ke\n",
    "    print(name.title())"
   ]
  },
  {
   "cell_type": "code",
   "execution_count": 26,
   "metadata": {},
   "outputs": [
    {
     "name": "stdout",
     "output_type": "stream",
     "text": [
      "Hi, Jen.\n",
      "Hi, Sarah.\n",
      "\tSarah, I see you love C!\n",
      "Hi, Edward.\n",
      "Hi, Phil.\n",
      "\tPhil, I see you love Python!\n"
     ]
    }
   ],
   "source": [
    "#print a message to a couple of friends\n",
    "\n",
    "favorite_languages = {\n",
    "    'jen' : 'python',\n",
    "    'sarah' : 'c', \n",
    "    'edward' : 'ruby', \n",
    "    'phil' : 'python',\n",
    "    }\n",
    "\n",
    "friends = ['phil', 'sarah']\n",
    "\n",
    "for name in favorite_languages.keys():\n",
    "    print(f\"Hi, {name.title()}.\")\n",
    "    \n",
    "    if name in friends:\n",
    "        language = favorite_languages[name].title()\n",
    "        print(f\"\\t{name.title()}, I see you love {language}!\")"
   ]
  },
  {
   "cell_type": "code",
   "execution_count": 27,
   "metadata": {},
   "outputs": [
    {
     "name": "stdout",
     "output_type": "stream",
     "text": [
      "Erin, please take our poll!\n"
     ]
    }
   ],
   "source": [
    "# find out if a particular person was polled\n",
    "\n",
    "favorite_languages = {\n",
    "    'jen' : 'python',\n",
    "    'sarah' : 'c', \n",
    "    'edward' : 'ruby', \n",
    "    'phil' : 'python',\n",
    "    }\n",
    "\n",
    "if 'erin' not in favorite_languages.keys():\n",
    "    print(f\"Erin, please take our poll!\")"
   ]
  },
  {
   "cell_type": "code",
   "execution_count": 28,
   "metadata": {},
   "outputs": [
    {
     "name": "stdout",
     "output_type": "stream",
     "text": [
      "Edward, thank you for taking the poll.\n",
      "Jen, thank you for taking the poll.\n",
      "Phil, thank you for taking the poll.\n",
      "Sarah, thank you for taking the poll.\n"
     ]
    }
   ],
   "source": [
    "# apply sorted() function for sorted result in a for loop\n",
    "\n",
    "favorite_languages = {\n",
    "    'jen' : 'python',\n",
    "    'sarah' : 'c', \n",
    "    'edward' : 'ruby', \n",
    "    'phil' : 'python',\n",
    "    }\n",
    "\n",
    "for name in sorted(favorite_languages.keys()): # sorted() function temporarily sorts keys/names in dictionary\n",
    "    print(f\"{name.title()}, thank you for taking the poll.\")"
   ]
  },
  {
   "cell_type": "markdown",
   "metadata": {},
   "source": [
    "So, we have wrapped the <b>sorted() function</b> around the dictionary.keys() method. This tells Python to list all keys in the dictionary and sort that list before looping through it."
   ]
  },
  {
   "cell_type": "code",
   "execution_count": 30,
   "metadata": {},
   "outputs": [
    {
     "name": "stdout",
     "output_type": "stream",
     "text": [
      "The following languages have been mentioned:\n",
      "Python\n",
      "C\n",
      "Ruby\n",
      "Python\n"
     ]
    }
   ],
   "source": [
    "### loop through all the values in a dictionary\n",
    "\n",
    "favorite_languages = {\n",
    "    'jen' : 'python',\n",
    "    'sarah' : 'c', \n",
    "    'edward' : 'ruby', \n",
    "    'phil' : 'python',\n",
    "    }\n",
    "\n",
    "print(f\"The following languages have been mentioned:\")\n",
    "for language in favorite_languages.values():\n",
    "    print(language.title())"
   ]
  },
  {
   "cell_type": "code",
   "execution_count": 31,
   "metadata": {},
   "outputs": [
    {
     "name": "stdout",
     "output_type": "stream",
     "text": [
      "The following languages have been mentioned:\n",
      "Python\n",
      "C\n",
      "Ruby\n"
     ]
    }
   ],
   "source": [
    "# apply set() function for unique output\n",
    "\n",
    "favorite_languages = {\n",
    "    'jen' : 'python',\n",
    "    'sarah' : 'c', \n",
    "    'edward' : 'ruby', \n",
    "    'phil' : 'python',\n",
    "    }\n",
    "\n",
    "print(f\"The following languages have been mentioned:\")\n",
    "for language in set(favorite_languages.values()): # set() function gets unique output as the result, no repetition;\n",
    "    print(language.title())"
   ]
  },
  {
   "cell_type": "markdown",
   "metadata": {},
   "source": [
    "A <b>set</b> is a collection in which each item must be unique. The result is a nonrepetitive list of items."
   ]
  },
  {
   "cell_type": "markdown",
   "metadata": {},
   "source": [
    "*NOTE:*<br>\n",
    "We can build a set directly using braces and separating the elements with commas:"
   ]
  },
  {
   "cell_type": "code",
   "execution_count": 32,
   "metadata": {},
   "outputs": [
    {
     "name": "stdout",
     "output_type": "stream",
     "text": [
      "{'python', 'c', 'ruby'}\n"
     ]
    }
   ],
   "source": [
    "languages = {'python', 'ruby', 'python', 'c'}\n",
    "print(languages)"
   ]
  },
  {
   "cell_type": "markdown",
   "metadata": {},
   "source": [
    "It's easy to mistake sets for dictionaries because they're both wrapped in braces. When you see braces but no key-value pairs, you're probably looking at a set. Unlike lists and dictionaries, sets do not retain items in any specific order."
   ]
  },
  {
   "cell_type": "markdown",
   "metadata": {},
   "source": [
    "### Nesting"
   ]
  },
  {
   "cell_type": "markdown",
   "metadata": {},
   "source": [
    "Sometimes we will want to store multiple dictionaries in a list, or a list of items as a value in a dictionary. This is called <b>nesting</b>."
   ]
  },
  {
   "cell_type": "code",
   "execution_count": 33,
   "metadata": {},
   "outputs": [
    {
     "name": "stdout",
     "output_type": "stream",
     "text": [
      "{'color': 'green', 'points': '5'}\n",
      "{'color': 'yellow', 'points': '10'}\n",
      "{'color': 'red', 'points': '15'}\n"
     ]
    }
   ],
   "source": [
    "# a list of dictionaries\n",
    "\n",
    "alien_0 = {'color':'green', 'points':'5'}\n",
    "alien_1 = {'color':'yellow', 'points':'10'}\n",
    "alien_2 = {'color':'red', 'points':'15'}\n",
    "\n",
    "aliens = [alien_0, alien_1, alien_2]\n",
    "\n",
    "for alien in aliens:\n",
    "    print(alien)"
   ]
  },
  {
   "cell_type": "code",
   "execution_count": 35,
   "metadata": {},
   "outputs": [
    {
     "name": "stdout",
     "output_type": "stream",
     "text": [
      "{'color': 'green', 'points': '5', 'speed': 'slow'}\n",
      "{'color': 'green', 'points': '5', 'speed': 'slow'}\n",
      "{'color': 'green', 'points': '5', 'speed': 'slow'}\n",
      "{'color': 'green', 'points': '5', 'speed': 'slow'}\n",
      "{'color': 'green', 'points': '5', 'speed': 'slow'}\n",
      "...\n",
      "Total number of aliens: 30\n"
     ]
    }
   ],
   "source": [
    "# create a fleet of 30 aliens\n",
    "# make an empty list for storing aliens\n",
    "\n",
    "aliens = []\n",
    "\n",
    "# make 30 green aliens\n",
    "\n",
    "for alien_number in range(30):\n",
    "    new_alien = {'color':'green', 'points':'5', 'speed':'slow'}\n",
    "    aliens.append(new_alien)\n",
    "    \n",
    "# show the first 5 aliens\n",
    "\n",
    "for alien in aliens[:5]:\n",
    "    print(alien)\n",
    "print(\"...\")\n",
    "\n",
    "# show how many aliens have been created\n",
    "\n",
    "print(f\"Total number of aliens: {len(aliens)}\")"
   ]
  },
  {
   "cell_type": "code",
   "execution_count": null,
   "metadata": {},
   "outputs": [],
   "source": []
  }
 ],
 "metadata": {
  "kernelspec": {
   "display_name": "Python 3",
   "language": "python",
   "name": "python3"
  },
  "language_info": {
   "codemirror_mode": {
    "name": "ipython",
    "version": 3
   },
   "file_extension": ".py",
   "mimetype": "text/x-python",
   "name": "python",
   "nbconvert_exporter": "python",
   "pygments_lexer": "ipython3",
   "version": "3.8.5"
  }
 },
 "nbformat": 4,
 "nbformat_minor": 4
}

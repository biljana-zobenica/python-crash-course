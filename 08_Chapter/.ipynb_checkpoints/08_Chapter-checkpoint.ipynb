{
 "cells": [
  {
   "cell_type": "markdown",
   "metadata": {},
   "source": [
    "<div class=\"alert alert-block alert-info\" style=\"background-color: #aebf00; border: 0px; -moz-border-radius: 10px; -webkit-border-radius: 10px;\" width=\"100px\">\n",
    "<br/><br/>\n",
    "<h1 style=\"font-size: 25px; color: white; align: center;\"><center>\n",
    "<img src=\"https://encrypted-tbn0.gstatic.com/images?q=tbn:ANd9GcQDnfKWqBBMjseT3M5JckruICb6XdgwrFmP_A&usqp=CAU\" width=\"200px\" /><br/><br/>\n",
    "Python Crash Course\n",
    "<br><br>Functions\n",
    "</center></h1>\n",
    "</div>"
   ]
  },
  {
   "cell_type": "markdown",
   "metadata": {},
   "source": [
    "### Defining a Function"
   ]
  },
  {
   "cell_type": "markdown",
   "metadata": {},
   "source": [
    "<b>Functions</b> are named blocks of code which are designed to do one specific job. A <b>function call</b> tells Python to execute the code in the function. Also, functions could be stored in separate files which are called <b>modules</b>, in order to help organize the main program files better."
   ]
  },
  {
   "cell_type": "code",
   "execution_count": null,
   "metadata": {},
   "outputs": [],
   "source": [
    "# a simple function\n",
    "\n",
    "def greet_user():\n",
    "    \"\"\"Display a simple greeting.\"\"\"\n",
    "    print(\"Hello!\")\n",
    "    \n",
    "greet_user()"
   ]
  }
 ],
 "metadata": {
  "kernelspec": {
   "display_name": "Python 3",
   "language": "python",
   "name": "python3"
  },
  "language_info": {
   "codemirror_mode": {
    "name": "ipython",
    "version": 3
   },
   "file_extension": ".py",
   "mimetype": "text/x-python",
   "name": "python",
   "nbconvert_exporter": "python",
   "pygments_lexer": "ipython3",
   "version": "3.8.5"
  }
 },
 "nbformat": 4,
 "nbformat_minor": 4
}

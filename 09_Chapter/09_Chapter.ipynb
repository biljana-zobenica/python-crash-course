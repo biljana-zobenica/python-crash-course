{
 "cells": [
  {
   "cell_type": "markdown",
   "metadata": {},
   "source": [
    "<div class=\"alert alert-block alert-info\" style=\"background-color: #aebf00; border: 0px; -moz-border-radius: 10px; -webkit-border-radius: 10px;\" width=\"100px\">\n",
    "<br/><br/>\n",
    "<h1 style=\"font-size: 25px; color: white; align: center;\"><center>\n",
    "<img src=\"https://encrypted-tbn0.gstatic.com/images?q=tbn:ANd9GcQDnfKWqBBMjseT3M5JckruICb6XdgwrFmP_A&usqp=CAU\" width=\"200px\" /><br/><br/>\n",
    "Python Crash Course\n",
    "<br><br>Classes\n",
    "</center></h1>\n",
    "</div>"
   ]
  },
  {
   "cell_type": "markdown",
   "metadata": {},
   "source": [
    "When we create individual objects from the class, each object is automatically equipped with the general behavior; we can then give each object whatever unique traits we desire. Making an object from a class is called <b>instantiation</b>, and we work with <b>instances</b> of a class."
   ]
  },
  {
   "cell_type": "markdown",
   "metadata": {},
   "source": [
    "### Creating and Using a Class"
   ]
  },
  {
   "cell_type": "code",
   "execution_count": 2,
   "metadata": {},
   "outputs": [],
   "source": [
    "class Dog:\n",
    "    \"\"\"A simple attempt to model a dog.\"\"\"\n",
    "    def __init__(self, name, age):\n",
    "        \"\"\"Initialize name and age attributes.\"\"\"\n",
    "        self.name = name\n",
    "        self.age = age\n",
    "        \n",
    "    def sit(self):\n",
    "        \"\"\"Simulate a dog sitting in response to a command.\"\"\"\n",
    "        print(f\"{self.name} is now sitting.\")\n",
    "        \n",
    "    def roll_over(self):\n",
    "        \"\"\"Simulate rolling over in response to a command.\"\"\"\n",
    "        print(f\"{self.name} rolled over!\")"
   ]
  },
  {
   "cell_type": "markdown",
   "metadata": {},
   "source": [
    "A function which is a part of a class is a <b>method</b>."
   ]
  },
  {
   "cell_type": "markdown",
   "metadata": {},
   "source": [
    "The <b>__init__() method</b> is a special method that Python runs automatically whenever we create a new instance based on the Dog class. We define the <b>__init__() method</b> to have three parameters: self, name and age. The <b>self parameter</b> is required in the method definition and it must come first, before the other parameters. It represents a reference to the instance itself; it gives the individual instance access to the attributes and methods in the class. "
   ]
  },
  {
   "cell_type": "code",
   "execution_count": 4,
   "metadata": {},
   "outputs": [
    {
     "name": "stdout",
     "output_type": "stream",
     "text": [
      "My dog's name is Willie.\n",
      "My dog is 6 years old.\n"
     ]
    }
   ],
   "source": [
    "# create an instance by passing the arguments name and age to a class, \n",
    "# and assigning a variable to that instance;\n",
    "my_dog = Dog('Willie', 6)\n",
    "\n",
    "print(f\"My dog's name is {my_dog.name}.\")\n",
    "print(f\"My dog is {my_dog.age} years old.\")"
   ]
  },
  {
   "cell_type": "markdown",
   "metadata": {},
   "source": [
    "Naming conventions: capitalized name like Dog refers to a class and a lowercase name like my_dog refers to a single instance created from a class."
   ]
  },
  {
   "cell_type": "code",
   "execution_count": 5,
   "metadata": {},
   "outputs": [
    {
     "name": "stdout",
     "output_type": "stream",
     "text": [
      "Willie is now sitting.\n",
      "Willie rolled over!\n"
     ]
    }
   ],
   "source": [
    "my_dog.sit()\n",
    "my_dog.roll_over()"
   ]
  },
  {
   "cell_type": "markdown",
   "metadata": {},
   "source": [
    "We can create as many instances from one class as we need, as long as we give each instance a unique variable name or it occupies a unique spot in a list or dictionary."
   ]
  },
  {
   "cell_type": "markdown",
   "metadata": {},
   "source": [
    "### Working with Classes and Instances"
   ]
  },
  {
   "cell_type": "code",
   "execution_count": 27,
   "metadata": {},
   "outputs": [
    {
     "name": "stdout",
     "output_type": "stream",
     "text": [
      "2019 Audi A4\n",
      "This car has 0 miles on it.\n"
     ]
    }
   ],
   "source": [
    "class Car:\n",
    "    \"\"\"A simple attempt to represent a car.\"\"\"\n",
    "    \n",
    "    def __init__(self, make, model, year):\n",
    "        \"\"\"Initialize attributes to describe a car.\"\"\"\n",
    "        self.make = make\n",
    "        self.model = model\n",
    "        self.year = year\n",
    "        self.odometer_reading = 0 #added new argment with a default value, without being passed in as parameter;\n",
    "        \n",
    "    def get_descriptive_name(self):\n",
    "        \"\"\"Return a neatly formatted descriptive name.\"\"\"\n",
    "        long_name = f\"{self.year} {self.make} {self.model}\"\n",
    "        return long_name.title()\n",
    "    \n",
    "    def read_odometer(self): #define odometer\n",
    "        \"\"\"Print a statement showing the car's mileage.\"\"\"\n",
    "        print(f\"This car has {self.odometer_reading} miles on it.\")\n",
    "        \n",
    "    def update_odometer(self, mileage): #update odometer\n",
    "        \"\"\"Set the odometer reading to the given value. \n",
    "        Reject the change if it attempts to roll the odometer back.\"\"\"\n",
    "        if mileage >= self.odometer_reading:\n",
    "            self.odometer_reading = mileage\n",
    "        else:\n",
    "            print(\"You can't roll back an odometer!\")\n",
    "            \n",
    "    def increment_odometer(self, miles): #increment odometer\n",
    "        \"\"\"Add the given amount to the dodometer reading.\"\"\"\n",
    "        if miles > 0:\n",
    "            self.odometer_reading += miles\n",
    "        else:\n",
    "            print(\"You can't decrease an odometer.\")\n",
    "    \n",
    "my_new_car = Car('audi', 'a4', 2019)\n",
    "print(my_new_car.get_descriptive_name())\n",
    "my_new_car.read_odometer()"
   ]
  },
  {
   "cell_type": "markdown",
   "metadata": {},
   "source": [
    "When an instance is created, attributes can be defined without being passed in as parameters. These attributes can be defined in the __init__() method, where they are assigned a default value."
   ]
  },
  {
   "cell_type": "markdown",
   "metadata": {},
   "source": [
    "<b>Modifying Attribute Values</b> in three ways:\n",
    "- directly through an instance,\n",
    "- set the value through a method, or\n",
    "- increment the value through a method."
   ]
  },
  {
   "cell_type": "code",
   "execution_count": 28,
   "metadata": {},
   "outputs": [
    {
     "name": "stdout",
     "output_type": "stream",
     "text": [
      "This car has 23 miles on it.\n"
     ]
    }
   ],
   "source": [
    "# modifying attribute's value directly through an instance\n",
    "\n",
    "my_new_car.odometer_reading = 23 #by default, we set it to start from 0;\n",
    "my_new_car.read_odometer()"
   ]
  },
  {
   "cell_type": "code",
   "execution_count": 29,
   "metadata": {},
   "outputs": [
    {
     "name": "stdout",
     "output_type": "stream",
     "text": [
      "This car has 23500 miles on it.\n"
     ]
    }
   ],
   "source": [
    "# modifying attribute's value through a method\n",
    "\n",
    "#    def update_odometer(self, mileage):\n",
    "#        \"\"\"Set the odometer reading to the given value.\"\"\"\n",
    "#        self.odometer_reading = mileage\n",
    "        \n",
    "my_new_car.update_odometer(23_500)\n",
    "my_new_car.read_odometer()"
   ]
  },
  {
   "cell_type": "code",
   "execution_count": 30,
   "metadata": {},
   "outputs": [
    {
     "name": "stdout",
     "output_type": "stream",
     "text": [
      "2019 Audi A4\n",
      "This car has 23500 miles on it.\n",
      "This car has 23600 miles on it.\n"
     ]
    }
   ],
   "source": [
    "# incrementing an attribute's value through a method\n",
    "\n",
    "#    def increment_odometer(self, miles):\n",
    "#        \"\"\"Add the given amount to the dodometer reading.\"\"\"\n",
    "#        self.odometer_reading += miles\n",
    "\n",
    "my_used_car = Car('subaru', 'outback', 2015)\n",
    "print(my_new_car.get_descriptive_name())\n",
    "\n",
    "my_used_car.update_odometer(23_500)\n",
    "my_used_car.read_odometer()\n",
    "\n",
    "my_used_car.increment_odometer(100)\n",
    "my_used_car.read_odometer()"
   ]
  },
  {
   "cell_type": "code",
   "execution_count": 31,
   "metadata": {},
   "outputs": [
    {
     "name": "stdout",
     "output_type": "stream",
     "text": [
      "You can't decrease an odometer.\n",
      "This car has 23600 miles on it.\n"
     ]
    }
   ],
   "source": [
    "my_used_car.increment_odometer(-100)\n",
    "my_used_car.read_odometer()"
   ]
  },
  {
   "cell_type": "markdown",
   "metadata": {},
   "source": [
    "### Inheritance"
   ]
  },
  {
   "cell_type": "markdown",
   "metadata": {},
   "source": [
    "<b>Inheritance</b> means that one class inherits from another, it takes on the attributes and methods of the first class. The original class is called the <b>parent class</b>, and the new class is the <b>child class</b>."
   ]
  },
  {
   "cell_type": "code",
   "execution_count": 41,
   "metadata": {},
   "outputs": [
    {
     "name": "stdout",
     "output_type": "stream",
     "text": [
      "2019 Tesla Model S\n",
      "This car has a 75-kWh battery.\n"
     ]
    }
   ],
   "source": [
    "# __init__ method for a CHILD class\n",
    "\n",
    "# this is a PARENT class\n",
    "\n",
    "class Car:\n",
    "    \"\"\"A simple attempt to represent a car.\"\"\"\n",
    "    \n",
    "    def __init__(self, make, model, year):\n",
    "        \"\"\"Initialize attributes to describe a car.\"\"\"\n",
    "        self.make = make\n",
    "        self.model = model\n",
    "        self.year = year\n",
    "        self.odometer_reading = 0 #added new argment with a default value, without being passed in as parameter;\n",
    "        \n",
    "    def get_descriptive_name(self):\n",
    "        \"\"\"Return a neatly formatted descriptive name.\"\"\"\n",
    "        long_name = f\"{self.year} {self.make} {self.model}\"\n",
    "        return long_name.title()\n",
    "    \n",
    "    def read_odometer(self): #define odometer\n",
    "        \"\"\"Print a statement showing the car's mileage.\"\"\"\n",
    "        print(f\"This car has {self.odometer_reading} miles on it.\")\n",
    "        \n",
    "    def update_odometer(self, mileage): #update odometer\n",
    "        \"\"\"Set the odometer reading to the given value. \n",
    "        Reject the change if it attempts to roll the odometer back.\"\"\"\n",
    "        if mileage >= self.odometer_reading:\n",
    "            self.odometer_reading = mileage\n",
    "        else:\n",
    "            print(\"You can't roll back an odometer!\")\n",
    "            \n",
    "    def increment_odometer(self, miles): #increment odometer\n",
    "        \"\"\"Add the given amount to the dodometer reading.\"\"\"\n",
    "        if miles > 0:\n",
    "            self.odometer_reading += miles\n",
    "        else:\n",
    "            print(\"You can't decrease an odometer.\")\n",
    "            \n",
    "# this is a CHILD class\n",
    "\n",
    "class ElectricCar(Car):\n",
    "    \"\"\"Represent aspects of a car, specific to electric vehicles.\"\"\"\n",
    "    def __init__(self, make, model, year):\n",
    "        \"\"\"Initialize attributes of the parent class.\n",
    "        Then initialize attributes specific to an electric car.\"\"\"\n",
    "        super().__init__(make, model, year)\n",
    "        self.battery_size = 75 #add a child class's attribute\n",
    "\n",
    "# defining attributes and methods for a CHILD class        \n",
    "        \n",
    "    def describe_battery(self): #add a child class's method\n",
    "        print(f\"This car has a {self.battery_size}-kWh battery.\")\n",
    "\n",
    "#overriding methods from the PARENT class (imagine the parent class has also this method)        \n",
    "\n",
    "    def fill_gas_tank(self): \n",
    "        \"\"\"Electric cars don't have gas tanks.\"\"\"\n",
    "        print(\"This car doesn't need a gas tank!\")\n",
    "\n",
    "my_tesla = ElectricCar('tesla', 'model s', 2019)\n",
    "print(my_tesla.get_descriptive_name())\n",
    "my_tesla.describe_battery()"
   ]
  },
  {
   "cell_type": "markdown",
   "metadata": {},
   "source": [
    "When you create a child class, the parent class must be part of the current file and must apprear before the child class in the file. The name of the parent class must be included in parentheses in the definition of a child class. The <b>super function</b> is a special function that allows us to call a method from the parent class. The name super comes from a convention of calling the parent class a <b>superclass</b> and the child class a <b>subclass</b>."
   ]
  },
  {
   "cell_type": "code",
   "execution_count": 33,
   "metadata": {},
   "outputs": [
    {
     "name": "stdout",
     "output_type": "stream",
     "text": [
      "2019 Tesla Model S\n"
     ]
    }
   ],
   "source": [
    "# test of inheritance -> working\n",
    "\n",
    "my_tesla = ElectricCar ('tesla', 'model s', 2019)\n",
    "print(my_tesla.get_descriptive_name())"
   ]
  },
  {
   "cell_type": "markdown",
   "metadata": {},
   "source": [
    "<b>Overriding methods from the parent class</b>: Once we have a child class that inherits from a parent class, we can add any new attributes and methods necessary to differentiate the child class from the parent class. We can override any method from the parent class that doesn't fit what we are tryint to model with the child class. We define a method in the child class with the same name as the method we want to override in the parent class. In this way, Python would disregard the parent class method and only pay attention to the method we define in the child class."
   ]
  },
  {
   "cell_type": "markdown",
   "metadata": {},
   "source": [
    "<b>Instances as attributes</b>: we can break our large class into smaller classes that work together. For example, if we continue adding detail to the ElectricCar class, we might notice that we're adding many attributes and methods specific to the car's battery. So, we can create a separate class called Battery."
   ]
  },
  {
   "cell_type": "code",
   "execution_count": 52,
   "metadata": {},
   "outputs": [
    {
     "name": "stdout",
     "output_type": "stream",
     "text": [
      "2019 Tesla Model S\n",
      "This car has a 75-kWh battery.\n",
      "This car can go about 260 miles on a full charge.\n"
     ]
    }
   ],
   "source": [
    "class Car:\n",
    "    \"\"\"A simple attempt to represent a car.\"\"\"\n",
    "    \n",
    "    def __init__(self, make, model, year):\n",
    "        \"\"\"Initialize attributes to describe a car.\"\"\"\n",
    "        self.make = make\n",
    "        self.model = model\n",
    "        self.year = year\n",
    "        self.odometer_reading = 0\n",
    "        \n",
    "    def get_descriptive_name(self):\n",
    "        \"\"\"Return a neatly formatted descriptive name.\"\"\"\n",
    "        long_name = f\"{self.year} {self.make} {self.model}\"\n",
    "        return long_name.title()\n",
    "    \n",
    "    def read_odometer(self):\n",
    "        \"\"\"Print a statement showing the car's mileage.\"\"\"\n",
    "        print(f\"This car has {self.odometer_reading} miles on it.\")\n",
    "        \n",
    "    def update_odometer(self, mileage):\n",
    "        \"\"\"Set the odometer reading to the given value. \n",
    "        Reject the change if it attempts to roll the odometer back.\"\"\"\n",
    "        if mileage >= self.odometer_reading:\n",
    "            self.odometer_reading = mileage\n",
    "        else:\n",
    "            print(\"You can't roll back an odometer!\")\n",
    "            \n",
    "    def increment_odometer(self, miles):\n",
    "        \"\"\"Add the given amount to the dodometer reading.\"\"\"\n",
    "        if miles > 0:\n",
    "            self.odometer_reading += miles\n",
    "        else:\n",
    "            print(\"You can't decrease an odometer.\")\n",
    "\n",
    "class Battery:\n",
    "    \"\"\"Model a battery for an electric car.\"\"\"\n",
    "    def __init__(self, battery_size = 75):\n",
    "        self.battery_size = battery_size\n",
    "        \n",
    "    def describe_battery(self):\n",
    "        print(f\"This car has a {self.battery_size}-kWh battery.\")\n",
    "        \n",
    "    def get_range(self):\n",
    "        \"\"\"Print a statement about the range this battery provides.\"\"\"\n",
    "        if self.battery_size == 75:\n",
    "            range = 260\n",
    "        elif self.battery_size == 100:\n",
    "            range = 315\n",
    "        print(f\"This car can go about {range} miles on a full charge.\")\n",
    "        \n",
    "    def upgrade_battery(self):\n",
    "        if self.battery_size != 100:\n",
    "            self.battery_size = 100\n",
    "            \n",
    "class ElectricCar(Car):\n",
    "    \"\"\"Represent aspects of a car, specific to electric vehicles.\"\"\"\n",
    "    def __init__(self, make, model, year):\n",
    "        \"\"\"Initialize attributes of the parent class.\n",
    "        Then initialize attributes specific to an electric car.\"\"\"\n",
    "        super().__init__(make, model, year)\n",
    "        self.battery = Battery() \n",
    "\n",
    "    def fill_gas_tank(self): \n",
    "        \"\"\"Electric cars don't have gas tanks.\"\"\"\n",
    "        print(\"This car doesn't need a gas tank!\")\n",
    "        \n",
    "my_tesla = ElectricCar('tesla', 'model s', 2019)\n",
    "print(my_tesla.get_descriptive_name())\n",
    "my_tesla.battery.describe_battery()\n",
    "my_tesla.battery.get_range()"
   ]
  },
  {
   "cell_type": "code",
   "execution_count": 53,
   "metadata": {},
   "outputs": [
    {
     "name": "stdout",
     "output_type": "stream",
     "text": [
      "2020 Volvo X50\n",
      "This car has a 75-kWh battery.\n",
      "This car can go about 260 miles on a full charge.\n",
      "This car has a 100-kWh battery.\n",
      "This car can go about 315 miles on a full charge.\n"
     ]
    }
   ],
   "source": [
    "my_car = ElectricCar('volvo', 'x50', 2020)\n",
    "print(my_car.get_descriptive_name())\n",
    "my_car.battery.describe_battery()\n",
    "my_car.battery.get_range()\n",
    "\n",
    "my_car.battery.upgrade_battery()\n",
    "my_car.battery.describe_battery()\n",
    "my_car.battery.get_range()"
   ]
  },
  {
   "cell_type": "markdown",
   "metadata": {},
   "source": [
    "### Importing Classes"
   ]
  },
  {
   "cell_type": "markdown",
   "metadata": {},
   "source": [
    "Python lets us store classes in modules and then import the classes we need into our main program. In the file car.py we include a module-level docstring that briefly describes the contents of this module. It is a good practice to do so. Also, we have a separate file called my_car.py, which will import the Car class and then create an instance from that class."
   ]
  },
  {
   "cell_type": "markdown",
   "metadata": {},
   "source": [
    "We can store as many classes as you need in a single module, although each class in a module should be related somehow. So, classes Battery and ElectricCar both help represent cars, so we add them in the car.py file."
   ]
  },
  {
   "cell_type": "markdown",
   "metadata": {},
   "source": [
    "Importing Classes:\n",
    "- Importing a single class\n",
    "- Storing multiple classes in a module\n",
    "- Importing multiple classes from a module\n",
    "- Importing an entire module\n",
    "- Importing all classes from a module (with a *)\n",
    "- Importing a module into a module\n",
    "- Using aliases (from car import ElectricCar as EC\n"
   ]
  },
  {
   "cell_type": "code",
   "execution_count": 59,
   "metadata": {},
   "outputs": [
    {
     "name": "stdout",
     "output_type": "stream",
     "text": [
      "10 rolls of a 6-sided die: \n",
      "[4, 1, 5, 5, 2, 5, 4, 3, 4, 6]\n",
      "\n",
      "10 rolls of a 10-sided die: \n",
      "[5, 1, 3, 9, 3, 6, 1, 1, 3, 9]\n",
      "\n",
      "10 rolls of a 20-sided die: \n",
      "[8, 11, 1, 15, 3, 12, 8, 16, 12, 8]\n"
     ]
    }
   ],
   "source": [
    "# dice\n",
    "\n",
    "from random import randint\n",
    "\n",
    "class Die:\n",
    "    \"\"\"Represent a die, which can be rolled.\"\"\"\n",
    "    def __init__(self, sides=6):\n",
    "        self.sides = sides\n",
    "        \n",
    "    def roll_die(self):\n",
    "        return randint(1, self.sides)\n",
    "    \n",
    "# make a 6-sided die, and show the results of 10 rolls\n",
    "\n",
    "d6 = Die()\n",
    "results = []\n",
    "\n",
    "for roll_num in range(10):\n",
    "    result = d6.roll_die()\n",
    "    results.append(result)\n",
    "print(\"10 rolls of a 6-sided die: \")\n",
    "print(results)\n",
    "\n",
    "# make a 10-sided die, and show the results of 10 rolls\n",
    "\n",
    "d10 = Die(sides=10)\n",
    "results = []\n",
    "\n",
    "for roll_num in range(10):\n",
    "    result = d10.roll_die()\n",
    "    results.append(result)\n",
    "print(\"\\n10 rolls of a 10-sided die: \")\n",
    "print(results)\n",
    "\n",
    "# make a 20-sided die, and show the results of 10 rolls\n",
    "\n",
    "d20 = Die(sides=20)\n",
    "results = []\n",
    "\n",
    "for roll_num in range(10):\n",
    "    result = d20.roll_die()\n",
    "    results.append(result)\n",
    "print(\"\\n10 rolls of a 20-sided die: \")\n",
    "print(results)"
   ]
  },
  {
   "cell_type": "code",
   "execution_count": 62,
   "metadata": {},
   "outputs": [
    {
     "name": "stdout",
     "output_type": "stream",
     "text": [
      "We pulled a 4!\n",
      "We pulled a e!\n",
      "We pulled a 9!\n",
      "We pulled a 5!\n",
      "\n",
      "Here are the winning ticket: [4, 'e', 9, 5]\n"
     ]
    }
   ],
   "source": [
    "# lottery\n",
    "\n",
    "from random import choice\n",
    "\n",
    "possibilities = [1, 2, 3, 4, 5, 6, 7, 8, 9, 10, 'a', 'b', 'c', 'd', 'e']\n",
    "\n",
    "winning_ticket = []\n",
    "\n",
    "while len(winning_ticket) < 4:\n",
    "    pulled_item = choice(possibilities)\n",
    "    \n",
    "    if pulled_item not in winning_ticket:\n",
    "        print(f\"We pulled a {pulled_item}!\")\n",
    "        winning_ticket.append(pulled_item)\n",
    "print(f\"\\nHere are the winning ticket: {winning_ticket}\")"
   ]
  },
  {
   "cell_type": "code",
   "execution_count": 66,
   "metadata": {},
   "outputs": [
    {
     "name": "stdout",
     "output_type": "stream",
     "text": [
      "We have a winning ticket!\n",
      "Your ticket: [2, 'c', 5, 1]\n",
      "Winning ticket: ['c', 1, 2, 5]\n",
      "It only took 20 tries to win!\n"
     ]
    }
   ],
   "source": [
    "# lottery analysis\n",
    "\n",
    "from random import choice\n",
    "\n",
    "def get_winning_ticket(possibilities):\n",
    "    winning_ticket = []\n",
    "    \n",
    "    while len(winning_ticket) < 4:\n",
    "        pulled_item = choice(possibilities)\n",
    "        \n",
    "        if pulled_item not in winning_ticket:\n",
    "            winning_ticket.append(pulled_item)\n",
    "    return winning_ticket\n",
    "\n",
    "def check_ticket(played_ticket, winning_ticket):\n",
    "    for item in played_ticket:\n",
    "        if item not in winning_ticket:\n",
    "            return False\n",
    "    return True\n",
    "\n",
    "def make_random_ticket(possibilities):\n",
    "    ticket = []\n",
    "    while len(ticket) < 4:\n",
    "        pulled_item = choice(possibilities)\n",
    "        if pulled_item not in ticket:\n",
    "            ticket.append(pulled_item)\n",
    "    return ticket\n",
    "\n",
    "possibilities = [1, 2, 3, 4, 5, 6, 7, 8, 9, 10, 'a', 'b', 'c', 'd', 'e']\n",
    "winning_ticket = get_winning_ticket(possibilities)\n",
    "\n",
    "plays = 0\n",
    "won = False\n",
    "max_tries = 1_000_000\n",
    "\n",
    "while not won:\n",
    "    new_ticket = make_random_ticket(possibilities)\n",
    "    won = check_ticket(new_ticket, winning_ticket)\n",
    "    plays += 1\n",
    "    if plays >= max_tries:\n",
    "        break\n",
    "\n",
    "if won:\n",
    "    print(\"We have a winning ticket!\")\n",
    "    print(f\"Your ticket: {new_ticket}\")\n",
    "    print(f\"Winning ticket: {winning_ticket}\")\n",
    "    print(f\"It only took {plays} tries to win!\")\n",
    "else:\n",
    "    print(f\"Tried {plays} times, without pulling a winner.\")\n",
    "    print(f\"Your ticket: {new_ticket}\")\n",
    "    print(f\"Winning ticket: {winning_ticket}\")"
   ]
  }
 ],
 "metadata": {
  "kernelspec": {
   "display_name": "Python 3 (ipykernel)",
   "language": "python",
   "name": "python3"
  },
  "language_info": {
   "codemirror_mode": {
    "name": "ipython",
    "version": 3
   },
   "file_extension": ".py",
   "mimetype": "text/x-python",
   "name": "python",
   "nbconvert_exporter": "python",
   "pygments_lexer": "ipython3",
   "version": "3.9.6"
  }
 },
 "nbformat": 4,
 "nbformat_minor": 4
}
